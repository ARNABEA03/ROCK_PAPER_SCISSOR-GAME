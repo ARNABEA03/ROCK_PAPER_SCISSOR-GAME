{
 "cells": [
  {
   "cell_type": "markdown",
   "id": "fe8e759d",
   "metadata": {},
   "source": [
    "### Project name: This is all about a popular game called \"Rock, Paper, Scissor\" using OOPS concept"
   ]
  },
  {
   "cell_type": "code",
   "execution_count": 4,
   "id": "be3bfa6e",
   "metadata": {},
   "outputs": [],
   "source": [
    "import random"
   ]
  },
  {
   "cell_type": "code",
   "execution_count": 9,
   "id": "a1679a00",
   "metadata": {},
   "outputs": [
    {
     "name": "stdout",
     "output_type": "stream",
     "text": [
      "Let's play Rock, Paper, Scissors!\n",
      "You vs. Computer!\n",
      "Rock, paper, or scissors? rock\n",
      "You chose rock. Computer chose paper.\n",
      "Computer wins!\n",
      "Score: You: 0 | Computer: 1\n",
      "Play again? (y/n) y\n",
      "You vs. Computer!\n",
      "Rock, paper, or scissors? paper\n",
      "You chose paper. Computer chose paper.\n",
      "Tie!\n",
      "Score: You: 0 | Computer: 1\n",
      "Play again? (y/n) y\n",
      "You vs. Computer!\n",
      "Rock, paper, or scissors? scissors\n",
      "You chose scissors. Computer chose rock.\n",
      "Computer wins!\n",
      "Score: You: 0 | Computer: 2\n",
      "Play again? (y/n) y\n",
      "You vs. Computer!\n",
      "Rock, paper, or scissors? paper\n",
      "You chose paper. Computer chose rock.\n",
      "You wins!\n",
      "Score: You: 1 | Computer: 2\n",
      "Play again? (y/n) y\n",
      "You vs. Computer!\n",
      "Rock, paper, or scissors? rock\n",
      "You chose rock. Computer chose paper.\n",
      "Computer wins!\n",
      "Score: You: 1 | Computer: 3\n",
      "Play again? (y/n) n\n",
      "Thanks for playing!\n"
     ]
    }
   ],
   "source": [
    "\n",
    "\n",
    "class Player:\n",
    "    def __init__(self, name):\n",
    "        self.name = name\n",
    "        self.score = 0\n",
    "        self.choice = None\n",
    "\n",
    "    def choose(self):\n",
    "        pass\n",
    "\n",
    "\n",
    "class HumanPlayer(Player):\n",
    "    def choose(self):\n",
    "        choice = input(\"Rock, paper, or scissors? \").lower()\n",
    "        while choice not in [\"rock\", \"paper\", \"scissors\"]:\n",
    "            choice = input(\"Invalid input. Please choose rock, paper, or scissors. \").lower()\n",
    "        self.choice = choice\n",
    "\n",
    "\n",
    "class ComputerPlayer(Player):\n",
    "    def choose(self):\n",
    "        self.choice = random.choice([\"rock\", \"paper\", \"scissors\"])\n",
    "\n",
    "\n",
    "class RPSGame:\n",
    "    def __init__(self):\n",
    "        self.human = HumanPlayer(\"You\")\n",
    "        self.computer = ComputerPlayer(\"Computer\")\n",
    "\n",
    "    def play_round(self):\n",
    "        print(f\"{self.human.name} vs. {self.computer.name}!\")\n",
    "        self.human.choose()\n",
    "        self.computer.choose()\n",
    "        print(f\"You chose {self.human.choice}. {self.computer.name} chose {self.computer.choice}.\")\n",
    "        if self.human.choice == self.computer.choice:\n",
    "            print(\"Tie!\")\n",
    "        elif (self.human.choice == \"rock\" and self.computer.choice == \"scissors\") or (\n",
    "                self.human.choice == \"paper\" and self.computer.choice == \"rock\") or (\n",
    "                self.human.choice == \"scissors\" and self.computer.choice == \"paper\"):\n",
    "            print(f\"{self.human.name} wins!\")\n",
    "            self.human.score += 1\n",
    "        else:\n",
    "            print(f\"{self.computer.name} wins!\")\n",
    "            self.computer.score += 1\n",
    "\n",
    "    def play_game(self):\n",
    "        print(\"Let's play Rock, Paper, Scissors!\")\n",
    "        while True:\n",
    "            self.play_round()\n",
    "            print(f\"Score: {self.human.name}: {self.human.score} | {self.computer.name}: {self.computer.score}\")\n",
    "            play_again = input(\"Play again? (y/n) \").lower()\n",
    "            if play_again != \"y\":\n",
    "                print(\"Thanks for playing!\")\n",
    "                break\n",
    "\n",
    "\n",
    "game = RPSGame()\n",
    "game.play_game()\n"
   ]
  },
  {
   "cell_type": "code",
   "execution_count": null,
   "id": "98ea515c",
   "metadata": {},
   "outputs": [],
   "source": []
  },
  {
   "cell_type": "code",
   "execution_count": null,
   "id": "c02a2592",
   "metadata": {},
   "outputs": [],
   "source": []
  }
 ],
 "metadata": {
  "kernelspec": {
   "display_name": "Python 3 (ipykernel)",
   "language": "python",
   "name": "python3"
  },
  "language_info": {
   "codemirror_mode": {
    "name": "ipython",
    "version": 3
   },
   "file_extension": ".py",
   "mimetype": "text/x-python",
   "name": "python",
   "nbconvert_exporter": "python",
   "pygments_lexer": "ipython3",
   "version": "3.10.9"
  }
 },
 "nbformat": 4,
 "nbformat_minor": 5
}
